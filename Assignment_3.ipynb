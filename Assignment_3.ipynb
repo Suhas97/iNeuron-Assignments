{
  "nbformat": 4,
  "nbformat_minor": 0,
  "metadata": {
    "colab": {
      "name": "Assignment_3.ipynb",
      "provenance": [],
      "authorship_tag": "ABX9TyNN3ZBUw0GaGsWTzTRTd8bg",
      "include_colab_link": true
    },
    "kernelspec": {
      "name": "python3",
      "display_name": "Python 3"
    },
    "language_info": {
      "name": "python"
    }
  },
  "cells": [
    {
      "cell_type": "markdown",
      "metadata": {
        "id": "view-in-github",
        "colab_type": "text"
      },
      "source": [
        "<a href=\"https://colab.research.google.com/github/Suhas97/iNeuron-Assignments/blob/main/Assignment_3.ipynb\" target=\"_parent\"><img src=\"https://colab.research.google.com/assets/colab-badge.svg\" alt=\"Open In Colab\"/></a>"
      ]
    },
    {
      "cell_type": "code",
      "metadata": {
        "id": "tUrWKCH-1jCO"
      },
      "source": [
        "def myreduce(a,b):\n",
        "  iterator = iter(b)\n",
        "  value = next(iterator)\n",
        "  for i in iterator:\n",
        "    value = a(value,i)\n",
        "  return value\n"
      ],
      "execution_count": 1,
      "outputs": []
    },
    {
      "cell_type": "code",
      "metadata": {
        "colab": {
          "base_uri": "https://localhost:8080/"
        },
        "id": "ccRIow514BN4",
        "outputId": "6a132911-f762-4719-b42a-53fa54a01d5c"
      },
      "source": [
        "myreduce (lambda a,b:a+b,[1,2,3,4])"
      ],
      "execution_count": 2,
      "outputs": [
        {
          "output_type": "execute_result",
          "data": {
            "text/plain": [
              "10"
            ]
          },
          "metadata": {
            "tags": []
          },
          "execution_count": 2
        }
      ]
    }
  ]
}