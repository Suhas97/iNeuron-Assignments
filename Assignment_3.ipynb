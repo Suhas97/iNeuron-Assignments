{
  "nbformat": 4,
  "nbformat_minor": 0,
  "metadata": {
    "colab": {
      "name": "Assignment_3.ipynb",
      "provenance": [],
      "authorship_tag": "ABX9TyPNCydYUieokYodHTEowTSO"
    },
    "kernelspec": {
      "name": "python3",
      "display_name": "Python 3"
    },
    "language_info": {
      "name": "python"
    }
  },
  "cells": [
    {
      "cell_type": "code",
      "metadata": {
        "id": "tUrWKCH-1jCO"
      },
      "source": [
        "def myreduce(a,b):\n",
        "  iterator = iter(b)\n",
        "  value = next(iterator)\n",
        "  for i in iterator:\n",
        "    value = a(value,i)\n",
        "  return value\n"
      ],
      "execution_count": null,
      "outputs": []
    },
    {
      "cell_type": "code",
      "metadata": {
        "colab": {
          "base_uri": "https://localhost:8080/"
        },
        "id": "ccRIow514BN4",
        "outputId": "6a132911-f762-4719-b42a-53fa54a01d5c"
      },
      "source": [
        "myreduce (lambda a,b:a+b,[1,2,3,4])"
      ],
      "execution_count": null,
      "outputs": [
        {
          "output_type": "execute_result",
          "data": {
            "text/plain": [
              "10"
            ]
          },
          "metadata": {
            "tags": []
          },
          "execution_count": 2
        }
      ]
    },
    {
      "cell_type": "code",
      "metadata": {
        "id": "58wrR3Ty5MI4"
      },
      "source": [
        "def myfilter(a,b):\n",
        "  iterator = iter(b)\n",
        "  value = next(iterator)\n",
        "  ret_val = []\n",
        "  for i in iterator:\n",
        "    if (a(i) == True):\n",
        "      ret_val.append(i)\n",
        "    else:\n",
        "      pass\n",
        "  return ret_val\n"
      ],
      "execution_count": null,
      "outputs": []
    },
    {
      "cell_type": "code",
      "metadata": {
        "colab": {
          "base_uri": "https://localhost:8080/"
        },
        "id": "qcRRQxPQ6R1u",
        "outputId": "0324881f-fa92-42dc-ca41-bec8277b073c"
      },
      "source": [
        "l = myfilter(lambda x:x%2 == 0,[1,2,3,4,5])\n",
        "l"
      ],
      "execution_count": null,
      "outputs": [
        {
          "output_type": "execute_result",
          "data": {
            "text/plain": [
              "[2, 4]"
            ]
          },
          "metadata": {
            "tags": []
          },
          "execution_count": 11
        }
      ]
    }
  ]
}