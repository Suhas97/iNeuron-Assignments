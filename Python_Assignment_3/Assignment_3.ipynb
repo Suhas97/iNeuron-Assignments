{
  "nbformat": 4,
  "nbformat_minor": 0,
  "metadata": {
    "colab": {
      "name": "Assignment_3.ipynb",
      "provenance": [],
      "authorship_tag": "ABX9TyMOj8/kEvs/LtILmv2k6l4K"
    },
    "kernelspec": {
      "name": "python3",
      "display_name": "Python 3"
    },
    "language_info": {
      "name": "python"
    }
  },
  "cells": [
    {
      "cell_type": "markdown",
      "metadata": {
        "id": "9vmOTEk9OaNe"
      },
      "source": [
        "1.1 Write a Python Program to implement your own myreduce() function which works exactly  like Python's built-in function reduce() "
      ]
    },
    {
      "cell_type": "code",
      "metadata": {
        "id": "tUrWKCH-1jCO"
      },
      "source": [
        "def myreduce(a,b):\n",
        "  iterator = iter(b)\n",
        "  value = next(iterator)\n",
        "  for item in iterator:\n",
        "    value = a(value,item)\n",
        "  return value\n"
      ],
      "execution_count": 44,
      "outputs": []
    },
    {
      "cell_type": "code",
      "metadata": {
        "colab": {
          "base_uri": "https://localhost:8080/"
        },
        "id": "ccRIow514BN4",
        "outputId": "2f61d7b5-3844-4573-9c2d-b4a7b3cd00ff"
      },
      "source": [
        "myreduce (lambda a,b:a+b,[1,2,3,4])"
      ],
      "execution_count": 45,
      "outputs": [
        {
          "output_type": "execute_result",
          "data": {
            "text/plain": [
              "10"
            ]
          },
          "metadata": {
            "tags": []
          },
          "execution_count": 45
        }
      ]
    },
    {
      "cell_type": "markdown",
      "metadata": {
        "id": "2snDCsCeOjBN"
      },
      "source": [
        "1.2 Write a Python program to implement your own myfilter() function which works exactly  like Python's built-in function filter() "
      ]
    },
    {
      "cell_type": "code",
      "metadata": {
        "id": "58wrR3Ty5MI4"
      },
      "source": [
        "def myfilter(a,b):\n",
        "  iterator = iter(b)\n",
        "  value = next(iterator)\n",
        "  ret_val = []\n",
        "  for item in iterator:\n",
        "    if (a(item) == True):\n",
        "      ret_val.append(item)\n",
        "    else:\n",
        "      pass\n",
        "  return ret_val\n"
      ],
      "execution_count": 46,
      "outputs": []
    },
    {
      "cell_type": "code",
      "metadata": {
        "colab": {
          "base_uri": "https://localhost:8080/"
        },
        "id": "qcRRQxPQ6R1u",
        "outputId": "efafb70d-f485-4e69-8c92-8fc0af4a47eb"
      },
      "source": [
        "l = myfilter(lambda x:x%2 == 0,[1,2,3,4,5])\n",
        "l"
      ],
      "execution_count": 47,
      "outputs": [
        {
          "output_type": "execute_result",
          "data": {
            "text/plain": [
              "[2, 4]"
            ]
          },
          "metadata": {
            "tags": []
          },
          "execution_count": 47
        }
      ]
    },
    {
      "cell_type": "markdown",
      "metadata": {
        "id": "ceUxLzbsOp-6"
      },
      "source": [
        "2. Implement List comprehensions to produce the following lists.  \n",
        "Write List comprehensions to produce the following Lists \n",
        "['A', 'C', 'A', 'D', 'G', 'I', ’L’, ‘ D’] \n",
        "['x', 'xx', 'xxx', 'xxxx', 'y', 'yy', 'yyy', 'yyyy', 'z', 'zz', 'zzz', 'zzzz']  \n",
        "['x', 'y', 'z', 'xx', 'yy', 'zz', 'xxx', 'yyy', 'zzz', 'xxxx', 'yyyy', 'zzzz']  \n",
        "[[2], [3], [4], [3], [4], [5], [4], [5], [6]] [[2, 3, 4, 5], [3, 4, 5, 6],  \n",
        "[4, 5, 6, 7], [5, 6, 7, 8]] \n"
      ]
    },
    {
      "cell_type": "code",
      "metadata": {
        "colab": {
          "base_uri": "https://localhost:8080/"
        },
        "id": "O5LIHB7J81JF",
        "outputId": "73a02efd-0b15-4a06-c70d-3cb79bb12ff4"
      },
      "source": [
        "string = \"ACADGILD\"\n",
        "lst = [x for x in string]\n",
        "print(lst)"
      ],
      "execution_count": 48,
      "outputs": [
        {
          "output_type": "stream",
          "text": [
            "['A', 'C', 'A', 'D', 'G', 'I', 'L', 'D']\n"
          ],
          "name": "stdout"
        }
      ]
    },
    {
      "cell_type": "code",
      "metadata": {
        "colab": {
          "base_uri": "https://localhost:8080/"
        },
        "id": "xeJfOsjg_yF3",
        "outputId": "7e77bf26-fb87-4433-ba65-837af97de338"
      },
      "source": [
        "string = \"xyz\"\n",
        "lst = [x*y for x in string for y in range (1,5)]\n",
        "print (lst)"
      ],
      "execution_count": 49,
      "outputs": [
        {
          "output_type": "stream",
          "text": [
            "['x', 'xx', 'xxx', 'xxxx', 'y', 'yy', 'yyy', 'yyyy', 'z', 'zz', 'zzz', 'zzzz']\n"
          ],
          "name": "stdout"
        }
      ]
    },
    {
      "cell_type": "code",
      "metadata": {
        "colab": {
          "base_uri": "https://localhost:8080/"
        },
        "id": "T0gXIHvLC6Oi",
        "outputId": "6393d311-8ff4-448b-d7b8-963586236106"
      },
      "source": [
        "string = \"xyz\"\n",
        "lst = [x*y for y in range (1,5) for x in string]\n",
        "print (lst)"
      ],
      "execution_count": 50,
      "outputs": [
        {
          "output_type": "stream",
          "text": [
            "['x', 'y', 'z', 'xx', 'yy', 'zz', 'xxx', 'yyy', 'zzz', 'xxxx', 'yyyy', 'zzzz']\n"
          ],
          "name": "stdout"
        }
      ]
    },
    {
      "cell_type": "code",
      "metadata": {
        "colab": {
          "base_uri": "https://localhost:8080/"
        },
        "id": "In1w6AxrDJ0I",
        "outputId": "c0dffc35-7b00-4356-e339-9fab584a2992"
      },
      "source": [
        "lst = [[i+j] for i in range(2,5) for j in range (0,3)]\n",
        "print (lst)"
      ],
      "execution_count": 51,
      "outputs": [
        {
          "output_type": "stream",
          "text": [
            "[[2], [3], [4], [3], [4], [5], [4], [5], [6]]\n"
          ],
          "name": "stdout"
        }
      ]
    },
    {
      "cell_type": "code",
      "metadata": {
        "colab": {
          "base_uri": "https://localhost:8080/"
        },
        "id": "4rkGM-eGNXeQ",
        "outputId": "8528e17c-b8bd-4a08-d77d-e74e16d22719"
      },
      "source": [
        "lst = [[i+j for i in range(2,6)] for j in range(0,4)]\n",
        "print (lst)"
      ],
      "execution_count": 52,
      "outputs": [
        {
          "output_type": "stream",
          "text": [
            "[[2, 3, 4, 5], [3, 4, 5, 6], [4, 5, 6, 7], [5, 6, 7, 8]]\n"
          ],
          "name": "stdout"
        }
      ]
    }
  ]
}