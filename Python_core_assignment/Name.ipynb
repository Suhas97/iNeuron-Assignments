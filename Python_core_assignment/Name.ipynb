{
 "cells": [
  {
   "cell_type": "code",
   "execution_count": 4,
   "id": "realistic-division",
   "metadata": {},
   "outputs": [
    {
     "name": "stdout",
     "output_type": "stream",
     "text": [
      "Enter your first and last name seperated by a space\n",
      "Suhas Suresh\n",
      "Suresh Suhas\n"
     ]
    }
   ],
   "source": [
    "name = input(\"Enter your first and last name seperated by a space\\n\")\n",
    "name_list = name.split()\n",
    "print (name_list[1]+\" \"+name_list[0])"
   ]
  },
  {
   "cell_type": "code",
   "execution_count": null,
   "id": "combined-provider",
   "metadata": {},
   "outputs": [],
   "source": []
  }
 ],
 "metadata": {
  "kernelspec": {
   "display_name": "Python 3",
   "language": "python",
   "name": "python3"
  },
  "language_info": {
   "codemirror_mode": {
    "name": "ipython",
    "version": 3
   },
   "file_extension": ".py",
   "mimetype": "text/x-python",
   "name": "python",
   "nbconvert_exporter": "python",
   "pygments_lexer": "ipython3",
   "version": "3.8.5"
  }
 },
 "nbformat": 4,
 "nbformat_minor": 5
}
